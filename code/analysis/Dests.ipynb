{
 "cells": [
  {
   "cell_type": "code",
   "execution_count": 1,
   "metadata": {},
   "outputs": [],
   "source": [
    "from os import listdir\n",
    "from os.path import isfile, join\n",
    "import numpy as np"
   ]
  },
  {
   "cell_type": "code",
   "execution_count": 2,
   "metadata": {},
   "outputs": [],
   "source": [
    "def get_domain(year, domain):\n",
    "    \n",
    "    pathname = '/dfs/scratch2/dankang/wb_links/{}/{}.tsv'.format(year, domain)\n",
    "    print(\"reading from \" + pathname)\n",
    "    filename = [f for f in listdir(pathname) if isfile(join(pathname, f)) and f.startswith('part')][0]\n",
    "\n",
    "    dests = []\n",
    "    cnts = []\n",
    "    with open(pathname + \"/\" + filename, 'r') as f:\n",
    "        for line in f:\n",
    "            line = line.rstrip(\"\\n\").split(\"\\t\")                \n",
    "            dests.append(line[0])\n",
    "            cnts.append(int(line[1]))\n",
    "\n",
    "    return dests, cnts"
   ]
  },
  {
   "cell_type": "code",
   "execution_count": 49,
   "metadata": {},
   "outputs": [
    {
     "name": "stdout",
     "output_type": "stream",
     "text": [
      "reading from /dfs/scratch2/dankang/wb_links/2003/adobe.tsv\n"
     ]
    }
   ],
   "source": [
    "dests, cnts = get_domain(2003, 'adobe')"
   ]
  },
  {
   "cell_type": "code",
   "execution_count": 50,
   "metadata": {},
   "outputs": [],
   "source": [
    "a = np.array(cnts)"
   ]
  },
  {
   "cell_type": "code",
   "execution_count": 51,
   "metadata": {},
   "outputs": [
    {
     "data": {
      "text/plain": [
       "1183768"
      ]
     },
     "execution_count": 51,
     "metadata": {},
     "output_type": "execute_result"
    }
   ],
   "source": [
    "cnts[0]"
   ]
  },
  {
   "cell_type": "code",
   "execution_count": 52,
   "metadata": {},
   "outputs": [
    {
     "data": {
      "text/plain": [
       "[1183768, 1119423, 773440, 187486, 107314, 77134, 63469, 57977, 55340, 50332]"
      ]
     },
     "execution_count": 52,
     "metadata": {},
     "output_type": "execute_result"
    }
   ],
   "source": [
    "cnts[:10]"
   ]
  },
  {
   "cell_type": "code",
   "execution_count": 53,
   "metadata": {},
   "outputs": [
    {
     "data": {
      "text/plain": [
       "['adobe.com/products/acrobat/readstep2.html',\n",
       " 'adobe.com/products/acrobat/readstep.html',\n",
       " 'adobe.com/prodindex/acrobat/readstep.html',\n",
       " 'adobe.com',\n",
       " 'adobe.com/',\n",
       " 'access.adobe.com',\n",
       " 'adobe.com/acrobat/readstep.html',\n",
       " 'adobe.com/prodindex/acrobat/readstep.html#reader',\n",
       " 'adobe.com/products/acrobat/readermain.html',\n",
       " 'adobe.co.jp/products/acrobat/readstep.html']"
      ]
     },
     "execution_count": 53,
     "metadata": {},
     "output_type": "execute_result"
    }
   ],
   "source": [
    "dests[:10]"
   ]
  },
  {
   "cell_type": "code",
   "execution_count": 54,
   "metadata": {},
   "outputs": [
    {
     "name": "stdout",
     "output_type": "stream",
     "text": [
      "reading from /dfs/scratch2/dankang/wb_links/2007/adobe.tsv\n"
     ]
    }
   ],
   "source": [
    "dests, cnts = get_domain(2007, 'adobe')"
   ]
  },
  {
   "cell_type": "code",
   "execution_count": 55,
   "metadata": {},
   "outputs": [
    {
     "data": {
      "text/plain": [
       "[2569846, 625141, 452158, 261575, 152452, 126343, 105179, 101688, 97459, 97174]"
      ]
     },
     "execution_count": 55,
     "metadata": {},
     "output_type": "execute_result"
    }
   ],
   "source": [
    "cnts[:10]"
   ]
  },
  {
   "cell_type": "code",
   "execution_count": 56,
   "metadata": {},
   "outputs": [
    {
     "data": {
      "text/plain": [
       "['adobe.com/products/acrobat/readstep2.html',\n",
       " 'adobe.com/products/acrobat/readstep.html',\n",
       " 'adobe.com/prodindex/acrobat/readstep.html',\n",
       " 'adobe.com',\n",
       " 'adobe.com/',\n",
       " 'adobe.co.jp/products/acrobat/readstep2.html',\n",
       " 'adobe.com/shockwave/download/download.cgi?P1_Prod_Version=ShockwaveFlash',\n",
       " 'adobe.com/shockwave/download/download.cgi?P1_Prod_Version=ShockwaveFlash&promoid=BIOW',\n",
       " 'adobe.com/products/acrobat/readermain.html',\n",
       " 'adobe.com/go/getflashplayer']"
      ]
     },
     "execution_count": 56,
     "metadata": {},
     "output_type": "execute_result"
    }
   ],
   "source": [
    "dests[:10]"
   ]
  },
  {
   "cell_type": "markdown",
   "metadata": {},
   "source": [
    "## Microsoft"
   ]
  },
  {
   "cell_type": "code",
   "execution_count": 3,
   "metadata": {},
   "outputs": [
    {
     "name": "stdout",
     "output_type": "stream",
     "text": [
      "reading from /dfs/scratch2/dankang/wb_links/2003/microsoft.tsv\n",
      "[1262166, 286423, 230001, 142256, 102967, 70348, 67113, 62831, 58678, 57974]\n",
      "['microsoft.com/ContentRedirect.asp?prd=iis&sbp=&pver=5.0&pid=&ID=404&cat=web&os=&over=&hrd=&Opt1=&Opt2=&Opt3=', 'hardwarecentral.dealtime.com/xKW-microsoft_visual_studio_net_professional/FN-Programming_Tools/DL-0/NS-1/linkin_id-3011677/GS.html', 'microsoft.com/windows/ie/default.asp', 'microsoft.com', 'microsoft.com/windows/ie/', 'microsoft.com/windows/ie/default.htm', 'microsoft-watch.com?kc=MWZD10111TTX1B0000538', 'microsoft.com/', 'microsoft.com/ie', 'microsoft.com/downloads/search.asp?']\n"
     ]
    }
   ],
   "source": [
    "dests, cnts = get_domain(2003, 'microsoft')\n",
    "print(cnts[:10])\n",
    "print(dests[:10])"
   ]
  },
  {
   "cell_type": "code",
   "execution_count": 60,
   "metadata": {},
   "outputs": [
    {
     "name": "stdout",
     "output_type": "stream",
     "text": [
      "reading from /dfs/scratch2/dankang/wb_links/2007/microsoft.tsv\n",
      "[897720, 347886, 211412, 188925, 137327, 78318, 66314, 64990, 64556, 57732]\n",
      "['go.microsoft.com/fwlink/?linkid=8180', 'microsoft.com/ContentRedirect.asp?prd=iis&sbp=&pver=5.0&pid=&ID=404&cat=web&os=&over=&hrd=&Opt1=&Opt2=&Opt3=', 'microsoft-watch.com', 'microsoft.com', 'microsoft.com/windows/ie/default.asp', 'microsoft.com/windows/ie/default.htm', 'microsoft.com/', 'microsoft.com/windows/ie/default.mspx', 'msdn.microsoft.com/msdnmag/', 'vtc.com/modules/content/microsoft.php']\n"
     ]
    }
   ],
   "source": [
    "dests, cnts = get_domain(2007, 'microsoft')\n",
    "print(cnts[:10])\n",
    "print(dests[:10])"
   ]
  },
  {
   "cell_type": "markdown",
   "metadata": {},
   "source": [
    "## Dests"
   ]
  },
  {
   "cell_type": "code",
   "execution_count": null,
   "metadata": {},
   "outputs": [],
   "source": []
  },
  {
   "cell_type": "code",
   "execution_count": 58,
   "metadata": {},
   "outputs": [],
   "source": [
    "def get_dests(year):\n",
    "    pathname = '/dfs/scratch2/dankang/wb_links/{}/dest_group.tsv'.format(year)\n",
    "    print(\"reading from \" + pathname)\n",
    "    filename = [f for f in listdir(pathname) if isfile(join(pathname, f)) and f.startswith('part')][0]\n",
    "\n",
    "    dests = []\n",
    "    cnts = []\n",
    "    with open(pathname + \"/\" + filename, 'r') as f:\n",
    "        for line in f:\n",
    "            line = line.rstrip(\"\\n\").split(\"\\t\")                \n",
    "            dests.append(line[0])\n",
    "            cnts.append(int(line[1]))\n",
    "\n",
    "    return dests, cnts"
   ]
  },
  {
   "cell_type": "code",
   "execution_count": 59,
   "metadata": {},
   "outputs": [
    {
     "name": "stdout",
     "output_type": "stream",
     "text": [
      "reading from /dfs/scratch2/dankang/wb_links/2010/dest_group.tsv\n"
     ]
    },
    {
     "ename": "IndexError",
     "evalue": "list index out of range",
     "output_type": "error",
     "traceback": [
      "\u001b[0;31m---------------------------------------------------------------------------\u001b[0m",
      "\u001b[0;31mIndexError\u001b[0m                                Traceback (most recent call last)",
      "\u001b[0;32m<ipython-input-59-fa7e642ca7eb>\u001b[0m in \u001b[0;36m<module>\u001b[0;34m()\u001b[0m\n\u001b[0;32m----> 1\u001b[0;31m \u001b[0mdests\u001b[0m\u001b[0;34m,\u001b[0m \u001b[0mcnts\u001b[0m \u001b[0;34m=\u001b[0m \u001b[0mget_dests\u001b[0m\u001b[0;34m(\u001b[0m\u001b[0;36m2010\u001b[0m\u001b[0;34m)\u001b[0m\u001b[0;34m\u001b[0m\u001b[0m\n\u001b[0m",
      "\u001b[0;32m<ipython-input-58-cc0bd5db74e5>\u001b[0m in \u001b[0;36mget_dests\u001b[0;34m(year)\u001b[0m\n\u001b[1;32m      2\u001b[0m     \u001b[0mpathname\u001b[0m \u001b[0;34m=\u001b[0m \u001b[0;34m'/dfs/scratch2/dankang/wb_links/{}/dest_group.tsv'\u001b[0m\u001b[0;34m.\u001b[0m\u001b[0mformat\u001b[0m\u001b[0;34m(\u001b[0m\u001b[0myear\u001b[0m\u001b[0;34m)\u001b[0m\u001b[0;34m\u001b[0m\u001b[0m\n\u001b[1;32m      3\u001b[0m     \u001b[0mprint\u001b[0m\u001b[0;34m(\u001b[0m\u001b[0;34m\"reading from \"\u001b[0m \u001b[0;34m+\u001b[0m \u001b[0mpathname\u001b[0m\u001b[0;34m)\u001b[0m\u001b[0;34m\u001b[0m\u001b[0m\n\u001b[0;32m----> 4\u001b[0;31m     \u001b[0mfilename\u001b[0m \u001b[0;34m=\u001b[0m \u001b[0;34m[\u001b[0m\u001b[0mf\u001b[0m \u001b[0;32mfor\u001b[0m \u001b[0mf\u001b[0m \u001b[0;32min\u001b[0m \u001b[0mlistdir\u001b[0m\u001b[0;34m(\u001b[0m\u001b[0mpathname\u001b[0m\u001b[0;34m)\u001b[0m \u001b[0;32mif\u001b[0m \u001b[0misfile\u001b[0m\u001b[0;34m(\u001b[0m\u001b[0mjoin\u001b[0m\u001b[0;34m(\u001b[0m\u001b[0mpathname\u001b[0m\u001b[0;34m,\u001b[0m \u001b[0mf\u001b[0m\u001b[0;34m)\u001b[0m\u001b[0;34m)\u001b[0m \u001b[0;32mand\u001b[0m \u001b[0mf\u001b[0m\u001b[0;34m.\u001b[0m\u001b[0mstartswith\u001b[0m\u001b[0;34m(\u001b[0m\u001b[0;34m'part'\u001b[0m\u001b[0;34m)\u001b[0m\u001b[0;34m]\u001b[0m\u001b[0;34m[\u001b[0m\u001b[0;36m0\u001b[0m\u001b[0;34m]\u001b[0m\u001b[0;34m\u001b[0m\u001b[0m\n\u001b[0m\u001b[1;32m      5\u001b[0m \u001b[0;34m\u001b[0m\u001b[0m\n\u001b[1;32m      6\u001b[0m     \u001b[0mdests\u001b[0m \u001b[0;34m=\u001b[0m \u001b[0;34m[\u001b[0m\u001b[0;34m]\u001b[0m\u001b[0;34m\u001b[0m\u001b[0m\n",
      "\u001b[0;31mIndexError\u001b[0m: list index out of range"
     ]
    }
   ],
   "source": [
    "dests, cnts = get_dests(2010)"
   ]
  },
  {
   "cell_type": "code",
   "execution_count": 36,
   "metadata": {},
   "outputs": [
    {
     "data": {
      "text/plain": [
       "10000"
      ]
     },
     "execution_count": 36,
     "metadata": {},
     "output_type": "execute_result"
    }
   ],
   "source": [
    "len(dests)"
   ]
  },
  {
   "cell_type": "code",
   "execution_count": 37,
   "metadata": {},
   "outputs": [
    {
     "data": {
      "text/plain": [
       "[3324783,\n",
       " 3131747,\n",
       " 2095362,\n",
       " 2081967,\n",
       " 2053779,\n",
       " 1957908,\n",
       " 1909977,\n",
       " 1810338,\n",
       " 1633844,\n",
       " 1604176]"
      ]
     },
     "execution_count": 37,
     "metadata": {},
     "output_type": "execute_result"
    }
   ],
   "source": [
    "cnts[:10]"
   ]
  },
  {
   "cell_type": "code",
   "execution_count": 39,
   "metadata": {},
   "outputs": [
    {
     "data": {
      "text/plain": [
       "['phpbb.com/',\n",
       " 'internet.com/',\n",
       " 'internet.com/corporate/legal.html',\n",
       " 'internet.com/corporate/privacy/privacypolicy.html',\n",
       " 'forums.devshed.com/member.php?s=&action=getinfo&userid=0',\n",
       " 'internet.com/corporate/reprints.html#Permissions',\n",
       " '\"\"',\n",
       " 'google.com/search',\n",
       " 'earthweb.com/',\n",
       " 'earthweb.com',\n",
       " 'internet.com',\n",
       " 'top100.rambler.ru/top100/',\n",
       " 'internet.com/corporate/reprints.html#Reprints',\n",
       " 'internet.com/corporate/reprints.html#Licensing',\n",
       " 'e-newsletters.internet.com/mailinglists.html',\n",
       " 'microsoft.com/ContentRedirect.asp?prd=iis&sbp=&pver=5.0&pid=&ID=404&cat=web&os=&over=&hrd=&Opt1=&Opt2=&Opt3=',\n",
       " 'adobe.com/products/acrobat/readstep2.html',\n",
       " 'internet.com/mediakit/',\n",
       " 'internet.com/partners/',\n",
       " 'internet.com/sections/marketing.html',\n",
       " 'internet.com/sections/linux.html',\n",
       " 'adobe.com/products/acrobat/readstep.html',\n",
       " 'internet.com/corporate/',\n",
       " 'search.internet.com',\n",
       " 'e-newsletters.internet.com/',\n",
       " 'internet.com/sections/win.html',\n",
       " 'internet.com/sections/it.html',\n",
       " 'internet.com/sections/resources.html',\n",
       " 'internet.com/sections/news.html',\n",
       " 'internet.com/sections/international.html',\n",
       " 'internet.com/sections/downloads.html',\n",
       " 'internet.com/sections/lists.html',\n",
       " 'internet.com/sections/webdev.html',\n",
       " 'internet.com/sections/wireless.html',\n",
       " 'google.com/intl/en/dirhelp.html#pagerank',\n",
       " 'internet.com/sections/sb.html',\n",
       " 'internet.com/sections/xsp.html',\n",
       " 'internet.com/sections/earthweb.html',\n",
       " 'killdevilhill.com',\n",
       " 'validator.w3.org/check/referer',\n",
       " 'cdxpo.com/',\n",
       " 'adobe.com/prodindex/acrobat/readstep.html',\n",
       " 'starbuck.com',\n",
       " 'jollyroger.com/beaconway/jollyroger.html',\n",
       " 'hardwarecentral.dealtime.com/BannerIn/1,2844,,00.html?linkin_id=3012258&nFormId=38733-72-1&path=/Pages/CategoryV2',\n",
       " 'jollyroger.com',\n",
       " 'counter.rambler.ru/top100/',\n",
       " 'internet.com/corporate/reprints.html#Licensing1',\n",
       " 'internet.com/corporate/reprints.html#Reprints1',\n",
       " 'hypermail.org/']"
      ]
     },
     "execution_count": 39,
     "metadata": {},
     "output_type": "execute_result"
    }
   ],
   "source": [
    "dests[:50]"
   ]
  }
 ],
 "metadata": {
  "kernelspec": {
   "display_name": "Python 3",
   "language": "python",
   "name": "python3"
  },
  "language_info": {
   "codemirror_mode": {
    "name": "ipython",
    "version": 3
   },
   "file_extension": ".py",
   "mimetype": "text/x-python",
   "name": "python",
   "nbconvert_exporter": "python",
   "pygments_lexer": "ipython3",
   "version": "3.5.2"
  }
 },
 "nbformat": 4,
 "nbformat_minor": 2
}
