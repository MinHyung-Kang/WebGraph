{
 "cells": [
  {
   "cell_type": "code",
   "execution_count": 5,
   "metadata": {},
   "outputs": [],
   "source": [
    "from os import listdir\n",
    "from os.path import isfile, join"
   ]
  },
  {
   "cell_type": "code",
   "execution_count": 61,
   "metadata": {},
   "outputs": [],
   "source": [
    "# NOTE: Honestly, it is faster to just look at the file directly and do a group-by, sort"
   ]
  },
  {
   "cell_type": "code",
   "execution_count": 46,
   "metadata": {},
   "outputs": [],
   "source": [
    "def get_hash_to_domain(year):\n",
    "    pathname = '/dfs/scratch2/dankang/wb_links/{}/domain_to_hash.tsv'.format(year)\n",
    "    print(\"reading from \" + pathname)\n",
    "    filename = [f for f in listdir(pathname) if isfile(join(pathname, f)) and f.startswith('part')][0]\n",
    "    hashToDomain = {}\n",
    "    with open(pathname + \"/\" + filename, 'r') as f:\n",
    "        for line in f:\n",
    "            line = line.rstrip(\"\\n\").split(\"\\t\")\n",
    "            key = line[0]\n",
    "            val = line[1].split(\",\")\n",
    "            hashToDomain[key] = val\n",
    "            \n",
    "    return hashToDomain"
   ]
  },
  {
   "cell_type": "markdown",
   "metadata": {},
   "source": [
    "## 2003"
   ]
  },
  {
   "cell_type": "code",
   "execution_count": 45,
   "metadata": {},
   "outputs": [],
   "source": [
    "hashToDomain = get_hash_to_domain(2003)"
   ]
  },
  {
   "cell_type": "code",
   "execution_count": 32,
   "metadata": {},
   "outputs": [
    {
     "data": {
      "text/plain": [
       "['da.ru']"
      ]
     },
     "execution_count": 32,
     "metadata": {},
     "output_type": "execute_result"
    }
   ],
   "source": [
    "# Maxoutdegreenode=5468 (outdegree = 352433)\n",
    "# Hex Value: c18c41bda4b86497\n",
    "# value: da.ru\n",
    "hashToDomain['c18c41bbda4b86497']"
   ]
  },
  {
   "cell_type": "code",
   "execution_count": null,
   "metadata": {},
   "outputs": [],
   "source": [
    "\n",
    "+---------------------+----------------+------+\n",
    "|Src_domain           |Src_domain_hash |count |\n",
    "+---------------------+----------------+------+\n",
    "|da.ru                |c18c41bda4b86497|352441|\n",
    "|directory.google.com |3cfafcbc987ce4c5|284354|\n",
    "|anywho.com           |311b0b94ccec8b8a|230804|\n",
    "|dominion-web.com     |38760a97d42c35d6|230305|\n",
    "|tollfree.att.net     |a4acec8f61eea4d3|210058|\n",
    "|att.net              |e8238011d6993b6d|197235|\n",
    "|suchmaschine.com     |9a2be8e23b77cdec|190323|\n",
    "|dmoz.org             |13a9f906e1aabb5f|186738|\n",
    "|newhoo.com           |afd376560b63a354|183385|\n",
    "|asia.dir.yahoo.com   |af358ea469b2b1d9|183095|\n",
    "|directory.mozilla.org|ac1a32a6db293eb5|178747|\n",
    "|1mall.com            |6d8152d5b69a7705|175002|\n",
    "|chaloindia.com       |26dc62bb6ec38f91|161379|\n",
    "|bellnet.de           |835d9333a8d91742|157067|\n",
    "|excite.co.uk         |5f113fcdcaf66d9a|152133|\n",
    "|coolchannel.com      |82bc95bdb2821e88|141346|\n",
    "|catdriver.com        |31e71748af07438c|136837|\n",
    "|listoflists.com      |7b83498fae7f2147|126167|\n",
    "|wwar.com             |ba830a1151182dba|113662|\n",
    "|ezo.net              |3d77166a99dd8330|112253|\n",
    "|search.yeah.net      |95d4c963aedcc74e|108075|\n",
    "|nisearch.163.com     |236bea79b4edd25a|108042|\n",
    "|excite.de            |c7a51a483d2a4868|90597 |\n",
    "|mybookmarks.com      |54d377f19303bdae|81493 |\n",
    "|dir.sohu.com         |8d5d038d260903b6|80668 |\n",
    "+---------------------+----------------+------+\n",
    "\n"
   ]
  },
  {
   "cell_type": "code",
   "execution_count": 33,
   "metadata": {},
   "outputs": [],
   "source": [
    "# Maxindegree node = 18327 (indegree = 31028)\n",
    "# Hex value: 78fd2270135e1b23\n",
    "# value: adobe.com"
   ]
  },
  {
   "cell_type": "code",
   "execution_count": 34,
   "metadata": {},
   "outputs": [
    {
     "data": {
      "text/plain": [
       "['adobe.com']"
      ]
     },
     "execution_count": 34,
     "metadata": {},
     "output_type": "execute_result"
    }
   ],
   "source": [
    "hashToDomain['78fd2270135e1b23']"
   ]
  },
  {
   "cell_type": "code",
   "execution_count": null,
   "metadata": {},
   "outputs": [],
   "source": [
    "+------------------+----------------+-----+\n",
    "|Dest_domain       |Dest_domain_hash|count|\n",
    "+------------------+----------------+-----+\n",
    "|adobe.com         |78fd2270135e1b23|31046|\n",
    "|microsoft.com     |27aa0e9a8dcd0c99|27429|\n",
    "|geocities.com     |88a81da21704afa3|22354|\n",
    "|amazon.com        |f7a0c374c7d09d59|15422|\n",
    "|members.aol.com   |36c0420168c4e67e|15153|\n",
    "|google.com        |6512cfca31b94c22|14359|\n",
    "|yahoo.com         |7617b0bdec941953|13741|\n",
    "|cnn.com           |5d6f9735c5d70e9f|12213|\n",
    "|apple.com         |83b6018dabced7a5|11120|\n",
    "|nytimes.com       |5eeb4bfd57992503|10968|\n",
    "|members.tripod.com|4fb174a855b6b54d|10640|\n",
    "|angelfire.com     |28acd5624a796d6c|10266|\n",
    "|macromedia.com    |09ad91d5a8f241aa|10125|\n",
    "|w3.org            |e10c43787fd2855b|9683 |\n",
    "|pbs.org           |e98d8139a373ce68|9492 |\n",
    "|cdc.gov           |7cc40191f2c6b081|9434 |\n",
    "|washingtonpost.com|8ac3f26b6fb0d177|9394 |\n",
    "|whitehouse.gov    |7ee25e7617f91f78|9204 |\n",
    "|real.com          |f5655e98ea01929f|9098 |\n",
    "|epa.gov           |bd27bedd264a5757|8702 |\n",
    "|usatoday.com      |7569e0871aac524a|8580 |\n",
    "|home.netscape.com |71a6a72af220c30b|8445 |\n",
    "|home.earthlink.net|e320004656e0cedb|8198 |\n",
    "|europa.eu.int     |b512333b4723d2e2|7949 |\n",
    "|news.bbc.co.uk    |04037dc256ce43b8|7724 |\n",
    "+------------------+----------------+-----+"
   ]
  },
  {
   "cell_type": "markdown",
   "metadata": {},
   "source": [
    "## 2004"
   ]
  },
  {
   "cell_type": "code",
   "execution_count": 35,
   "metadata": {},
   "outputs": [],
   "source": [
    "hashToDomain = get_hash_to_domain(2004)"
   ]
  },
  {
   "cell_type": "code",
   "execution_count": null,
   "metadata": {},
   "outputs": [],
   "source": [
    "# maxoutdegreenode=20489 (maxoutdegree=828573)\n",
    "# Hex Value:  0871c7b1303b71b1\n",
    "# value: tripod.lycos.com"
   ]
  },
  {
   "cell_type": "code",
   "execution_count": 58,
   "metadata": {},
   "outputs": [
    {
     "data": {
      "text/plain": [
       "['tripod.lycos.com']"
      ]
     },
     "execution_count": 58,
     "metadata": {},
     "output_type": "execute_result"
    }
   ],
   "source": [
    "hashToDomain['0871c7b1303b71b1']"
   ]
  },
  {
   "cell_type": "code",
   "execution_count": null,
   "metadata": {},
   "outputs": [],
   "source": [
    "+---------------------+----------------+------+\n",
    "|Src_domain           |Src_domain_hash |count |\n",
    "+---------------------+----------------+------+\n",
    "|tripod.lycos.com     |0871c7b1303b71b1|828573|\n",
    "|webbound.com         |fbb68b4fe1d327a0|414985|\n",
    "|cyber.law.harvard.edu|59e74eff93f2b3af|204143|\n",
    "|anywho.com           |311b0b94ccec8b8a|195085|\n",
    "|tollfree.att.net     |a4acec8f61eea4d3|194210|\n",
    "|salon.com            |945e5dfe84d684d5|176269|\n",
    "|att.net              |e8238011d6993b6d|175144|\n",
    "|directory.google.com |3cfafcbc987ce4c5|168786|\n",
    "|gy.com               |ef8ffc5ed4becffe|160626|\n",
    "|excite.co.uk         |5f113fcdcaf66d9a|150434|\n",
    "|dmoz.org             |13a9f906e1aabb5f|127452|\n",
    "|newhoo.com           |afd376560b63a354|123567|\n",
    "|directory.mozilla.org|ac1a32a6db293eb5|120911|\n",
    "|tcfb.com             |0b13f71ced0782a6|117569|\n",
    "|search-it-all.com    |742ad2e7267c8cee|108064|\n",
    "|infogrid.com         |30fe84203f5bd640|103702|\n",
    "|1000dictionaries.com |a5a8a8eb23fbef13|101051|\n",
    "|excite.de            |c7a51a483d2a4868|95075 |\n",
    "|dino-online.de       |173ff51e2bdf8bb5|86543 |\n",
    "|sahafa.com           |81a79b448754ffe8|84152 |\n",
    "|mybookmarks.com      |54d377f19303bdae|81680 |\n",
    "|webwombat.com.au     |a4304f4b33f3a4aa|81165 |\n",
    "|e-democracy.org      |810a7e86c06e0dfd|76321 |\n",
    "|adminet.com          |aa34ecf126bf89cf|75500 |\n",
    "|reference.com        |92373d2c9c97d4e4|70428 |\n",
    "+---------------------+----------------+------+"
   ]
  },
  {
   "cell_type": "code",
   "execution_count": null,
   "metadata": {},
   "outputs": [],
   "source": [
    "# Maxindegree node = 26567 (indegree = 25405)\n",
    "# Hex value: 78fd2270135e1b23\n",
    "# value: adobe.com"
   ]
  },
  {
   "cell_type": "code",
   "execution_count": 38,
   "metadata": {},
   "outputs": [
    {
     "data": {
      "text/plain": [
       "['adobe.com']"
      ]
     },
     "execution_count": 38,
     "metadata": {},
     "output_type": "execute_result"
    }
   ],
   "source": [
    "hashToDomain['78fd2270135e1b23']"
   ]
  },
  {
   "cell_type": "code",
   "execution_count": null,
   "metadata": {},
   "outputs": [],
   "source": []
  },
  {
   "cell_type": "code",
   "execution_count": null,
   "metadata": {},
   "outputs": [],
   "source": [
    "+------------------+----------------+-----+\n",
    "|Dest_domain       |Dest_domain_hash|count|\n",
    "+------------------+----------------+-----+\n",
    "|adobe.com         |78fd2270135e1b23|25411|\n",
    "|microsoft.com     |27aa0e9a8dcd0c99|20858|\n",
    "|geocities.com     |88a81da21704afa3|17192|\n",
    "|amazon.com        |f7a0c374c7d09d59|12722|\n",
    "|google.com        |6512cfca31b94c22|12208|\n",
    "|members.aol.com   |36c0420168c4e67e|11681|\n",
    "|yahoo.com         |7617b0bdec941953|10365|\n",
    "|cnn.com           |5d6f9735c5d70e9f|9946 |\n",
    "|nytimes.com       |5eeb4bfd57992503|9630 |\n",
    "|apple.com         |83b6018dabced7a5|9459 |\n",
    "|cdc.gov           |7cc40191f2c6b081|8479 |\n",
    "|pbs.org           |e98d8139a373ce68|8467 |\n",
    "|macromedia.com    |09ad91d5a8f241aa|8212 |\n",
    "|washingtonpost.com|8ac3f26b6fb0d177|8186 |\n",
    "|whitehouse.gov    |7ee25e7617f91f78|8074 |\n",
    "|members.tripod.com|4fb174a855b6b54d|7951 |\n",
    "|w3.org            |e10c43787fd2855b|7907 |\n",
    "|epa.gov           |bd27bedd264a5757|7876 |\n",
    "|angelfire.com     |28acd5624a796d6c|7769 |\n",
    "|usatoday.com      |7569e0871aac524a|7349 |\n",
    "|news.bbc.co.uk    |04037dc256ce43b8|7185 |\n",
    "|real.com          |f5655e98ea01929f|7173 |\n",
    "|europa.eu.int     |b512333b4723d2e2|7137 |\n",
    "|un.org            |1dd7db86d60a4e77|6650 |\n",
    "|mapquest.com      |063966f346ce0e21|6647 |\n",
    "+------------------+----------------+-----+"
   ]
  },
  {
   "cell_type": "markdown",
   "metadata": {},
   "source": [
    "## 2007"
   ]
  },
  {
   "cell_type": "code",
   "execution_count": 64,
   "metadata": {},
   "outputs": [
    {
     "name": "stdout",
     "output_type": "stream",
     "text": [
      "reading from /dfs/scratch2/dankang/wb_links/2007/domain_to_hash.tsv\n"
     ]
    }
   ],
   "source": [
    "hashToDomain = get_hash_to_domain(2007)"
   ]
  },
  {
   "cell_type": "code",
   "execution_count": 65,
   "metadata": {},
   "outputs": [],
   "source": [
    "# maxoutdegreenode=21894 (maxoutdegree=1972277)\n",
    "# Hex value: 0871c7b1303b71b1"
   ]
  },
  {
   "cell_type": "code",
   "execution_count": 57,
   "metadata": {},
   "outputs": [
    {
     "data": {
      "text/plain": [
       "['tripod.lycos.com']"
      ]
     },
     "execution_count": 57,
     "metadata": {},
     "output_type": "execute_result"
    }
   ],
   "source": [
    "hashToDomain['0871c7b1303b71b1']"
   ]
  },
  {
   "cell_type": "code",
   "execution_count": null,
   "metadata": {},
   "outputs": [],
   "source": [
    "+----------------------+----------------+-------+\n",
    "|Src_domain            |Src_domain_hash |count  |\n",
    "+----------------------+----------------+-------+\n",
    "|tripod.lycos.com      |0871c7b1303b71b1|1972275|\n",
    "|ljudmila.org          |bf22f11689c67626|601956 |\n",
    "|google.com            |6512cfca31b94c22|589629 |\n",
    "|paginegialle.it       |e65eda58e6f5207d|390892 |\n",
    "|choicehotels.com      |f1810dd01b60a327|280223 |\n",
    "|gy.com                |ef8ffc5ed4becffe|211818 |\n",
    "|directory.google.com  |3cfafcbc987ce4c5|180159 |\n",
    "|educationplanet.com   |269e32b71d2664ba|175441 |\n",
    "|hotsheet.com          |cfb0d56f20032566|159100 |\n",
    "|stumbleupon.com       |b3cbc96347dce3d0|146285 |\n",
    "|newhoo.com            |afd376560b63a354|123813 |\n",
    "|dmoz.org              |13a9f906e1aabb5f|117220 |\n",
    "|picsearch.com         |83b7926440632ca1|114063 |\n",
    "|at-la.com             |1bd1a9774fb0b5f1|107170 |\n",
    "|internazionale.it     |aaad8b4156865351|99981  |\n",
    "|boston.craigslist.org |adf8c4594cc8627e|88533  |\n",
    "|nni-news.com          |c72ca962494310c1|85472  |\n",
    "|newyork.craigslist.org|507a02d04314aaea|84662  |\n",
    "|adminet.com           |aa34ecf126bf89cf|82422  |\n",
    "|google.de             |cd5571256a66db42|73037  |\n",
    "|infogrid.com          |30fe84203f5bd640|67177  |\n",
    "|business.com          |291affb4f21b7cdd|66977  |\n",
    "|durhamtech.org        |97f544db81bd8c34|64547  |\n",
    "|flix.de               |bae264217d584fd0|57311  |\n",
    "|metaeureka.com        |589c06f7d609a2d8|56723  |\n",
    "+----------------------+----------------+-------+\n"
   ]
  },
  {
   "cell_type": "code",
   "execution_count": null,
   "metadata": {},
   "outputs": [],
   "source": [
    "#  maxindegreenode=2506 (maxindegree=19227)\n",
    "# Hex value: 78fd2270135e1b23"
   ]
  },
  {
   "cell_type": "code",
   "execution_count": 56,
   "metadata": {},
   "outputs": [
    {
     "data": {
      "text/plain": [
       "['excite.co.uk']"
      ]
     },
     "execution_count": 56,
     "metadata": {},
     "output_type": "execute_result"
    }
   ],
   "source": [
    "hashToDomain['78fd2270135e1b23']"
   ]
  },
  {
   "cell_type": "code",
   "execution_count": null,
   "metadata": {},
   "outputs": [],
   "source": [
    "+------------------+----------------+-----+\n",
    "|Dest_domain       |Dest_domain_hash|count|\n",
    "+------------------+----------------+-----+\n",
    "|adobe.com         |78fd2270135e1b23|19231|\n",
    "|microsoft.com     |27aa0e9a8dcd0c99|13960|\n",
    "|google.com        |6512cfca31b94c22|12309|\n",
    "|geocities.com     |88a81da21704afa3|12081|\n",
    "|amazon.com        |f7a0c374c7d09d59|11039|\n",
    "|en.wikipedia.org  |b961ddc5d26b7ed2|9510 |\n",
    "|apple.com         |83b6018dabced7a5|8885 |\n",
    "|nytimes.com       |5eeb4bfd57992503|8834 |\n",
    "|cnn.com           |5d6f9735c5d70e9f|7685 |\n",
    "|members.aol.com   |36c0420168c4e67e|7578 |\n",
    "|washingtonpost.com|8ac3f26b6fb0d177|7313 |\n",
    "|pbs.org           |e98d8139a373ce68|7110 |\n",
    "|macromedia.com    |09ad91d5a8f241aa|7097 |\n",
    "|news.bbc.co.uk    |04037dc256ce43b8|7046 |\n",
    "|cdc.gov           |7cc40191f2c6b081|6953 |\n",
    "|yahoo.com         |7617b0bdec941953|6880 |\n",
    "|whitehouse.gov    |7ee25e7617f91f78|6462 |\n",
    "|epa.gov           |bd27bedd264a5757|6324 |\n",
    "|usatoday.com      |7569e0871aac524a|6307 |\n",
    "|w3.org            |e10c43787fd2855b|6104 |\n",
    "|bbc.co.uk         |baf52f4732bd3e2a|5921 |\n",
    "|youtube.com       |a82100209096ac0f|5835 |\n",
    "|mapquest.com      |063966f346ce0e21|5446 |\n",
    "|un.org            |1dd7db86d60a4e77|5429 |\n",
    "|europa.eu.int     |b512333b4723d2e2|5266 |\n",
    "+------------------+----------------+-----+"
   ]
  },
  {
   "cell_type": "markdown",
   "metadata": {},
   "source": [
    "## 2010"
   ]
  },
  {
   "cell_type": "code",
   "execution_count": 62,
   "metadata": {},
   "outputs": [
    {
     "name": "stdout",
     "output_type": "stream",
     "text": [
      "reading from /dfs/scratch2/dankang/wb_links/2010/domain_to_hash.tsv\n"
     ]
    }
   ],
   "source": [
    "hashToDomain = get_hash_to_domain(2010)"
   ]
  },
  {
   "cell_type": "code",
   "execution_count": 66,
   "metadata": {},
   "outputs": [],
   "source": [
    "# maxoutdegreenode=29447 (maxoutdegree=1054378)\n",
    "# Hex value: 0871c7b1303b71b1\n",
    "# value: 'tripod.lycos.com"
   ]
  },
  {
   "cell_type": "code",
   "execution_count": 63,
   "metadata": {},
   "outputs": [
    {
     "data": {
      "text/plain": [
       "['tripod.lycos.com']"
      ]
     },
     "execution_count": 63,
     "metadata": {},
     "output_type": "execute_result"
    }
   ],
   "source": [
    "hashToDomain['0871c7b1303b71b1']"
   ]
  },
  {
   "cell_type": "code",
   "execution_count": null,
   "metadata": {},
   "outputs": [],
   "source": [
    "+---------------------+----------------+-------+\n",
    "|Src_domain           |Src_domain_hash |count  |\n",
    "+---------------------+----------------+-------+\n",
    "|tripod.lycos.com     |0871c7b1303b71b1|1054376|\n",
    "|gy.com               |ef8ffc5ed4becffe|210312 |\n",
    "|mybloglog.com        |2a4d0eb6cde4cb3e|186494 |\n",
    "|directory.google.com |3cfafcbc987ce4c5|167475 |\n",
    "|google.com           |6512cfca31b94c22|141437 |\n",
    "|at-la.com            |1bd1a9774fb0b5f1|135170 |\n",
    "|mister-wong.de       |196bd1656bc89c52|114701 |\n",
    "|hotsheet.com         |cfb0d56f20032566|113261 |\n",
    "|rhymeswithright.mu.nu|b65e5e00024e9639|107008 |\n",
    "|choicehotels.com     |f1810dd01b60a327|104358 |\n",
    "|dir.yahoo.com        |492896257d8c319c|103972 |\n",
    "|business.com         |291affb4f21b7cdd|102757 |\n",
    "|newgrounds.com       |77d4818fab256b30|101779 |\n",
    "|blogmarks.net        |433b566cc74b2d63|101600 |\n",
    "|picsearch.com        |83b7926440632ca1|101454 |\n",
    "|pipl.com             |94491ea2c59305f5|97177  |\n",
    "|adminet.com          |aa34ecf126bf89cf|88492  |\n",
    "|blinklist.com        |4142675bcda0113d|80497  |\n",
    "|metafilter.com       |ca52e6a61aa03f84|76422  |\n",
    "|latpro.com           |f3c4b2868f987b6f|75379  |\n",
    "|en.wikipedia.org     |b961ddc5d26b7ed2|70973  |\n",
    "|ask.com              |d18dfc6c879bf18b|70399  |\n",
    "|winsite.com          |19ea7bb70bbe4ee5|68694  |\n",
    "|jayde.com            |b22c675b01cfd491|62021  |\n",
    "|asiaobserver.com     |70efba07b23b104d|60971  |\n",
    "+---------------------+----------------+-------+\n"
   ]
  },
  {
   "cell_type": "code",
   "execution_count": 67,
   "metadata": {},
   "outputs": [],
   "source": [
    "# maxindegreenode=1316 (maxindegree=11581)\n",
    "# Hex value: ee2a095feb089992\n",
    "# value: facebook.com"
   ]
  },
  {
   "cell_type": "code",
   "execution_count": 49,
   "metadata": {},
   "outputs": [
    {
     "data": {
      "text/plain": [
       "['facebook.com']"
      ]
     },
     "execution_count": 49,
     "metadata": {},
     "output_type": "execute_result"
    }
   ],
   "source": [
    "hashToDomain['ee2a095feb089992']"
   ]
  },
  {
   "cell_type": "code",
   "execution_count": null,
   "metadata": {},
   "outputs": [],
   "source": [
    "+------------------+----------------+-----+\n",
    "|Dest_domain       |Dest_domain_hash|count|\n",
    "+------------------+----------------+-----+\n",
    "|facebook.com      |ee2a095feb089992|11581|\n",
    "|youtube.com       |a82100209096ac0f|11069|\n",
    "|twitter.com       |97bd3245910ca256|10949|\n",
    "|adobe.com         |78fd2270135e1b23|10752|\n",
    "|google.com        |6512cfca31b94c22|9117 |\n",
    "|en.wikipedia.org  |b961ddc5d26b7ed2|8203 |\n",
    "|microsoft.com     |27aa0e9a8dcd0c99|7262 |\n",
    "|amazon.com        |f7a0c374c7d09d59|7258 |\n",
    "|nytimes.com       |5eeb4bfd57992503|7147 |\n",
    "|maps.google.com   |8c92bf3a534b788d|6025 |\n",
    "|geocities.com     |88a81da21704afa3|5776 |\n",
    "|apple.com         |83b6018dabced7a5|5710 |\n",
    "|flickr.com        |58a1af4b1a3ec1a9|5704 |\n",
    "|washingtonpost.com|8ac3f26b6fb0d177|5325 |\n",
    "|cnn.com           |5d6f9735c5d70e9f|5137 |\n",
    "|news.bbc.co.uk    |04037dc256ce43b8|4975 |\n",
    "|whitehouse.gov    |7ee25e7617f91f78|4905 |\n",
    "|cdc.gov           |7cc40191f2c6b081|4848 |\n",
    "|pbs.org           |e98d8139a373ce68|4844 |\n",
    "|usatoday.com      |7569e0871aac524a|4593 |\n",
    "|bbc.co.uk         |baf52f4732bd3e2a|4294 |\n",
    "|epa.gov           |bd27bedd264a5757|4260 |\n",
    "|npr.org           |e4cc00841d46f522|4250 |\n",
    "|myspace.com       |0d0c770eb2d32ee2|4069 |\n",
    "|macromedia.com    |09ad91d5a8f241aa|4000 |\n",
    "+------------------+----------------+-----+\n"
   ]
  },
  {
   "cell_type": "code",
   "execution_count": 14,
   "metadata": {},
   "outputs": [],
   "source": [
    "def get_domain_summary(year):\n",
    "    def get_summary(srcdest):\n",
    "        pathname = '/dfs/scratch2/dankang/wb_links/{}/domain_counts_{}.tsv'.format(year, srcdest)\n",
    "        print(\"reading from \" + pathname)\n",
    "        filename = [f for f in listdir(pathname) if isfile(join(pathname, f)) and f.startswith('part')][0]\n",
    "        \n",
    "        domains = []\n",
    "        cnts = []\n",
    "        with open(pathname + \"/\" + filename, 'r') as f:\n",
    "            for line in f:\n",
    "                line = line.rstrip(\"\\n\").split(\"\\t\")                \n",
    "                domains.append(line[0])\n",
    "                cnts.append(int(line[2]))\n",
    "                \n",
    "        return domains, cnts\n",
    "                \n",
    "\n",
    "    src_domains, src_cnts = get_summary('src')\n",
    "    dest_domains, dest_cnts = get_summary('dest')\n",
    "    return src_domains, src_cnts, dest_domains, dest_cnts"
   ]
  },
  {
   "cell_type": "code",
   "execution_count": 33,
   "metadata": {},
   "outputs": [
    {
     "name": "stdout",
     "output_type": "stream",
     "text": [
      "reading from /dfs/scratch2/dankang/wb_links/2007/domain_counts_src.tsv\n",
      "reading from /dfs/scratch2/dankang/wb_links/2007/domain_counts_dest.tsv\n"
     ]
    }
   ],
   "source": [
    "src_domains, src_cnts, dest_domains, dest_cnts = get_domain_summary(2007)"
   ]
  },
  {
   "cell_type": "code",
   "execution_count": 34,
   "metadata": {},
   "outputs": [
    {
     "name": "stdout",
     "output_type": "stream",
     "text": [
      "384\tadobe.com\n",
      "279\tmicrosoft.com\n",
      "246\tgoogle.com\n",
      "241\tgeocities.com\n",
      "220\tamazon.com\n",
      "190\ten.wikipedia.org\n",
      "177\tapple.com\n",
      "176\tnytimes.com\n",
      "153\tcnn.com\n",
      "151\tmembers.aol.com\n",
      "146\twashingtonpost.com\n",
      "142\tpbs.org\n",
      "141\tmacromedia.com\n",
      "140\tnews.bbc.co.uk\n",
      "139\tcdc.gov\n",
      "137\tyahoo.com\n",
      "129\twhitehouse.gov\n",
      "126\tepa.gov\n",
      "126\tusatoday.com\n",
      "122\tw3.org\n",
      "118\tbbc.co.uk\n",
      "116\tyoutube.com\n",
      "108\tmapquest.com\n",
      "108\tun.org\n",
      "105\teuropa.eu.int\n",
      "104\tloc.gov\n",
      "104\tgo.microsoft.com\n",
      "104\tangelfire.com\n",
      "102\tmembers.tripod.com\n",
      "101\tcensus.gov\n",
      "100\thouse.gov\n",
      "99\ted.gov\n",
      "99\tweb.mit.edu\n",
      "96\treal.com\n",
      "96\tmaps.google.com\n",
      "95\tnpr.org\n",
      "95\tnps.gov\n",
      "93\tnsf.gov\n",
      "93\tthomas.loc.gov\n",
      "91\tncbi.nlm.nih.gov\n",
      "91\twho.int\n",
      "91\tstanford.edu\n",
      "91\tgroups.yahoo.com\n",
      "89\tusdoj.gov\n",
      "89\tlatimes.com\n",
      "88\tcolumbia.edu\n",
      "87\tindiana.edu\n",
      "87\thome.earthlink.net\n",
      "86\tmyspace.com\n",
      "86\tmsnbc.msn.com\n",
      "85\tnature.com\n",
      "83\tnasa.gov\n",
      "83\tsfgate.com\n",
      "82\tstate.gov\n",
      "82\tvalidator.w3.org\n",
      "82\tguardian.co.uk\n",
      "81\tsenate.gov\n",
      "81\tnlm.nih.gov\n",
      "81\tfda.gov\n",
      "79\tboston.com\n",
      "79\ttime.com\n",
      "79\tdir.yahoo.com\n",
      "79\twired.com\n",
      "78\tnih.gov\n",
      "77\tabcnews.go.com\n",
      "75\tyale.edu\n",
      "75\tforbes.com\n",
      "75\tutexas.edu\n",
      "74\tlcweb.loc.gov\n",
      "73\timdb.com\n",
      "72\tsciencedirect.com\n",
      "71\tworldbank.org\n",
      "71\tftc.gov\n",
      "71\tumich.edu\n",
      "70\tprinceton.edu\n",
      "70\tirs.gov\n",
      "69\tflickr.com\n",
      "69\tibm.com\n",
      "69\tweather.com\n",
      "69\tbusinessweek.com\n"
     ]
    }
   ],
   "source": [
    "for ind, (domain, cnt) in enumerate(zip(dest_domains, dest_cnts)):\n",
    "    if ind == 80:\n",
    "        break\n",
    "    print(\"{}\\t{}\".format(int(cnt/50), domain))"
   ]
  },
  {
   "cell_type": "code",
   "execution_count": null,
   "metadata": {},
   "outputs": [],
   "source": []
  }
 ],
 "metadata": {
  "kernelspec": {
   "display_name": "Python 3",
   "language": "python",
   "name": "python3"
  },
  "language_info": {
   "codemirror_mode": {
    "name": "ipython",
    "version": 3
   },
   "file_extension": ".py",
   "mimetype": "text/x-python",
   "name": "python",
   "nbconvert_exporter": "python",
   "pygments_lexer": "ipython3",
   "version": "3.5.2"
  }
 },
 "nbformat": 4,
 "nbformat_minor": 2
}
