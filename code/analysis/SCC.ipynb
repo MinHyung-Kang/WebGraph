{
 "cells": [
  {
   "cell_type": "code",
   "execution_count": 1,
   "metadata": {},
   "outputs": [],
   "source": [
    "import numpy as np\n",
    "import matplotlib.pyplot as plt\n",
    "#from scipy.optimize import curve_fit\n",
    "\n",
    "%matplotlib inline"
   ]
  },
  {
   "cell_type": "code",
   "execution_count": 2,
   "metadata": {},
   "outputs": [],
   "source": [
    "def get_root_path(year, get_undirected=False):\n",
    "    if get_undirected:\n",
    "        return '/dfs/scratch2/dankang/wb_links/{}/webgraph_u/webgraph_u.'.format(year)\n",
    "    else:\n",
    "        return '/dfs/scratch2/dankang/wb_links/{}/webgraph/webgraph.'.format(year)"
   ]
  },
  {
   "cell_type": "code",
   "execution_count": null,
   "metadata": {},
   "outputs": [],
   "source": [
    "year= 2003\n",
    "get_undirected = False\n",
    "file_type = 'scc'\n",
    "\n",
    "root_path = get_root_path(year, get_undirected)\n",
    "file_path = root_path + file_type\n"
   ]
  },
  {
   "cell_type": "code",
   "execution_count": null,
   "metadata": {},
   "outputs": [],
   "source": [
    "def read_degree(year, file_type, bin_size=None):\n",
    "    root_path = get_root_path(year)\n",
    "    file_path = root_path + file_type\n",
    "    \n",
    "    with open(file_path, \"r\") as f:\n",
    "        distrib = [int(line) for line in f]\n",
    "        \n",
    "    if bin_size is not None:\n",
    "        distrib = [sum(distrib[cur: cur+bin_size]) for cur in range(0, len(distrib), bin_size)]\n",
    "\n",
    "    return distrib"
   ]
  },
  {
   "cell_type": "code",
   "execution_count": 3,
   "metadata": {},
   "outputs": [],
   "source": [
    "scc_path = '/dfs/scratch2/dankang/WebGraph/data/2003_webgraph.scc'\n",
    "sccsizes_path = '/dfs/scratch2/dankang/WebGraph/data/2003_webgraph.sccsizes'"
   ]
  },
  {
   "cell_type": "code",
   "execution_count": null,
   "metadata": {},
   "outputs": [],
   "source": [
    "with open(scc_path, \"rb\") as f:\n",
    "    content = f.read()\n",
    "    \n",
    "    "
   ]
  }
 ],
 "metadata": {
  "kernelspec": {
   "display_name": "Python 3",
   "language": "python",
   "name": "python3"
  },
  "language_info": {
   "codemirror_mode": {
    "name": "ipython",
    "version": 3
   },
   "file_extension": ".py",
   "mimetype": "text/x-python",
   "name": "python",
   "nbconvert_exporter": "python",
   "pygments_lexer": "ipython3",
   "version": "3.5.2"
  }
 },
 "nbformat": 4,
 "nbformat_minor": 2
}
