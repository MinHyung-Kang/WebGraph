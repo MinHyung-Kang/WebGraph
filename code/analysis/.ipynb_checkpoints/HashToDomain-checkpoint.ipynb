{
 "cells": [
  {
   "cell_type": "code",
   "execution_count": 26,
   "metadata": {},
   "outputs": [],
   "source": [
    "from os import listdir\n",
    "from os.path import isfile, join"
   ]
  },
  {
   "cell_type": "code",
   "execution_count": 61,
   "metadata": {},
   "outputs": [],
   "source": [
    "# NOTE: Honestly, it is faster to just look at the file directly and do a group-by, sort"
   ]
  },
  {
   "cell_type": "code",
   "execution_count": 46,
   "metadata": {},
   "outputs": [],
   "source": [
    "def get_hash_to_domain(year):\n",
    "    pathname = '/dfs/scratch2/dankang/wb_links/{}/domain_to_hash.tsv'.format(year)\n",
    "    print(\"reading from \" + pathname)\n",
    "    filename = [f for f in listdir(pathname) if isfile(join(pathname, f)) and f.startswith('part')][0]\n",
    "    hashToDomain = {}\n",
    "    with open(pathname + \"/\" + filename, 'r') as f:\n",
    "        for line in f:\n",
    "            line = line.rstrip(\"\\n\").split(\"\\t\")\n",
    "            key = line[0]\n",
    "            val = line[1].split(\",\")\n",
    "            hashToDomain[key] = val\n",
    "            \n",
    "    return hashToDomain"
   ]
  },
  {
   "cell_type": "markdown",
   "metadata": {},
   "source": [
    "## 2003"
   ]
  },
  {
   "cell_type": "code",
   "execution_count": 45,
   "metadata": {},
   "outputs": [],
   "source": [
    "hashToDomain = get_hash_to_domain(2003)"
   ]
  },
  {
   "cell_type": "code",
   "execution_count": 32,
   "metadata": {},
   "outputs": [
    {
     "data": {
      "text/plain": [
       "['da.ru']"
      ]
     },
     "execution_count": 32,
     "metadata": {},
     "output_type": "execute_result"
    }
   ],
   "source": [
    "# Maxoutdegreenode=5468 (outdegree = 352433)\n",
    "# Hex Value: c18c41bda4b86497\n",
    "# value: da.ru\n",
    "hashToDomain['c18c41bbda4b86497']"
   ]
  },
  {
   "cell_type": "code",
   "execution_count": null,
   "metadata": {},
   "outputs": [],
   "source": [
    "\n",
    "+--------------------+----------------+------+\n",
    "|          Src_domain| Src_domain_hash| count|\n",
    "+--------------------+----------------+------+\n",
    "|               da.ru|c18c41bda4b86497|352433|\n",
    "|directory.google.com|3cfafcbc987ce4c5|284356|\n",
    "|          anywho.com|311b0b94ccec8b8a|230804|\n",
    "|    dominion-web.com|38760a97d42c35d6|230304|\n",
    "|    tollfree.att.net|a4acec8f61eea4d3|210058|\n",
    "|             att.net|e8238011d6993b6d|197235|\n",
    "|    suchmaschine.com|9a2be8e23b77cdec|190327|\n",
    "|            dmoz.org|13a9f906e1aabb5f|186737|\n",
    "|          newhoo.com|afd376560b63a354|183384|\n",
    "|  asia.dir.yahoo.com|af358ea469b2b1d9|183095|\n",
    "|directory.mozilla...|ac1a32a6db293eb5|178746|\n",
    "|           1mall.com|6d8152d5b69a7705|174998|\n",
    "|      chaloindia.com|26dc62bb6ec38f91|161376|\n",
    "|          bellnet.de|835d9333a8d91742|157065|\n",
    "|        excite.co.uk|5f113fcdcaf66d9a|152134|\n",
    "|     coolchannel.com|82bc95bdb2821e88|141344|\n",
    "|       catdriver.com|31e71748af07438c|136838|\n",
    "|     listoflists.com|7b83498fae7f2147|126167|\n",
    "|            wwar.com|ba830a1151182dba|113666|\n",
    "|             ezo.net|3d77166a99dd8330|112249|\n",
    "+--------------------+----------------+------+\n"
   ]
  },
  {
   "cell_type": "code",
   "execution_count": 33,
   "metadata": {},
   "outputs": [],
   "source": [
    "# Maxindegree node = 18327 (indegree = 31028)\n",
    "# Hex value: 78fd2270135e1b23\n",
    "# value: adobe.com"
   ]
  },
  {
   "cell_type": "code",
   "execution_count": 34,
   "metadata": {},
   "outputs": [
    {
     "data": {
      "text/plain": [
       "['adobe.com']"
      ]
     },
     "execution_count": 34,
     "metadata": {},
     "output_type": "execute_result"
    }
   ],
   "source": [
    "hashToDomain['78fd2270135e1b23']"
   ]
  },
  {
   "cell_type": "code",
   "execution_count": null,
   "metadata": {},
   "outputs": [],
   "source": [
    "\n",
    "+------------------+----------------+-----+\n",
    "|       Dest_domain|Dest_domain_hash|count|\n",
    "+------------------+----------------+-----+\n",
    "|         adobe.com|78fd2270135e1b23|31028|\n",
    "|     microsoft.com|27aa0e9a8dcd0c99|27420|\n",
    "|     geocities.com|88a81da21704afa3|22345|\n",
    "|             http:|41f33f4e9ca1a0bb|19007|\n",
    "|        amazon.com|f7a0c374c7d09d59|15417|\n",
    "|   members.aol.com|36c0420168c4e67e|15140|\n",
    "|        google.com|6512cfca31b94c22|14353|\n",
    "|         yahoo.com|7617b0bdec941953|13739|\n",
    "|           cnn.com|5d6f9735c5d70e9f|12207|\n",
    "|         apple.com|83b6018dabced7a5|11118|\n",
    "|       nytimes.com|5eeb4bfd57992503|10946|\n",
    "|members.tripod.com|4fb174a855b6b54d|10632|\n",
    "|     angelfire.com|28acd5624a796d6c|10261|\n",
    "|    macromedia.com|09ad91d5a8f241aa|10123|\n",
    "|            w3.org|e10c43787fd2855b| 9682|\n",
    "|           pbs.org|e98d8139a373ce68| 9490|\n",
    "|           cdc.gov|7cc40191f2c6b081| 9428|\n",
    "|washingtonpost.com|8ac3f26b6fb0d177| 9354|\n",
    "|    whitehouse.gov|7ee25e7617f91f78| 9142|\n",
    "|          real.com|f5655e98ea01929f| 9096|\n",
    "+------------------+----------------+-----+\n"
   ]
  },
  {
   "cell_type": "markdown",
   "metadata": {},
   "source": [
    "## 2004"
   ]
  },
  {
   "cell_type": "code",
   "execution_count": 35,
   "metadata": {},
   "outputs": [],
   "source": [
    "hashToDomain = get_hash_to_domain(2004)"
   ]
  },
  {
   "cell_type": "code",
   "execution_count": null,
   "metadata": {},
   "outputs": [],
   "source": [
    "# maxoutdegreenode=20489 (maxoutdegree=828573)\n",
    "# Hex Value:  0871c7b1303b71b1\n",
    "# value: tripod.lycos.com"
   ]
  },
  {
   "cell_type": "code",
   "execution_count": 58,
   "metadata": {},
   "outputs": [
    {
     "data": {
      "text/plain": [
       "['tripod.lycos.com']"
      ]
     },
     "execution_count": 58,
     "metadata": {},
     "output_type": "execute_result"
    }
   ],
   "source": [
    "hashToDomain['0871c7b1303b71b1']"
   ]
  },
  {
   "cell_type": "code",
   "execution_count": null,
   "metadata": {},
   "outputs": [],
   "source": [
    "+--------------------+----------------+------+\n",
    "|          Src_domain| Src_domain_hash| count|\n",
    "+--------------------+----------------+------+\n",
    "|    tripod.lycos.com|0871c7b1303b71b1|828573|\n",
    "|        webbound.com|fbb68b4fe1d327a0|414987|\n",
    "|cyber.law.harvard...|59e74eff93f2b3af|204145|\n",
    "|          anywho.com|311b0b94ccec8b8a|195085|\n",
    "|    tollfree.att.net|a4acec8f61eea4d3|194210|\n",
    "|           salon.com|945e5dfe84d684d5|176271|\n",
    "|             att.net|e8238011d6993b6d|175144|\n",
    "|directory.google.com|3cfafcbc987ce4c5|168787|\n",
    "|              gy.com|ef8ffc5ed4becffe|160626|\n",
    "|        excite.co.uk|5f113fcdcaf66d9a|150434|\n",
    "|            dmoz.org|13a9f906e1aabb5f|127453|\n",
    "|          newhoo.com|afd376560b63a354|123568|\n",
    "|directory.mozilla...|ac1a32a6db293eb5|120912|\n",
    "|            tcfb.com|0b13f71ced0782a6|117569|\n",
    "|   search-it-all.com|742ad2e7267c8cee|108064|\n",
    "|        infogrid.com|30fe84203f5bd640|103703|\n",
    "|1000dictionaries.com|a5a8a8eb23fbef13|101051|\n",
    "|           excite.de|c7a51a483d2a4868| 95074|\n",
    "|      dino-online.de|173ff51e2bdf8bb5| 86543|\n",
    "|          sahafa.com|81a79b448754ffe8| 84152|\n",
    "+--------------------+----------------+------+"
   ]
  },
  {
   "cell_type": "code",
   "execution_count": null,
   "metadata": {},
   "outputs": [],
   "source": [
    "# Maxindegree node = 26567 (indegree = 25405)\n",
    "# Hex value: 78fd2270135e1b23\n",
    "# value: adobe.com"
   ]
  },
  {
   "cell_type": "code",
   "execution_count": 38,
   "metadata": {},
   "outputs": [
    {
     "data": {
      "text/plain": [
       "['adobe.com']"
      ]
     },
     "execution_count": 38,
     "metadata": {},
     "output_type": "execute_result"
    }
   ],
   "source": [
    "hashToDomain['78fd2270135e1b23']"
   ]
  },
  {
   "cell_type": "code",
   "execution_count": null,
   "metadata": {},
   "outputs": [],
   "source": [
    "+------------------+----------------+-----+\n",
    "|       Dest_domain|Dest_domain_hash|count|\n",
    "+------------------+----------------+-----+\n",
    "|         adobe.com|78fd2270135e1b23|25405|\n",
    "|     microsoft.com|27aa0e9a8dcd0c99|20852|\n",
    "|     geocities.com|88a81da21704afa3|17186|\n",
    "|             http:|41f33f4e9ca1a0bb|15110|\n",
    "|        amazon.com|f7a0c374c7d09d59|12718|\n",
    "|        google.com|6512cfca31b94c22|12202|\n",
    "|   members.aol.com|36c0420168c4e67e|11671|\n",
    "|         yahoo.com|7617b0bdec941953|10364|\n",
    "|           cnn.com|5d6f9735c5d70e9f| 9944|\n",
    "|       nytimes.com|5eeb4bfd57992503| 9626|\n",
    "|         apple.com|83b6018dabced7a5| 9457|\n",
    "|           cdc.gov|7cc40191f2c6b081| 8474|\n",
    "|           pbs.org|e98d8139a373ce68| 8466|\n",
    "|    macromedia.com|09ad91d5a8f241aa| 8211|\n",
    "|washingtonpost.com|8ac3f26b6fb0d177| 8168|\n",
    "|    whitehouse.gov|7ee25e7617f91f78| 8030|\n",
    "|members.tripod.com|4fb174a855b6b54d| 7946|\n",
    "|            w3.org|e10c43787fd2855b| 7903|\n",
    "|           epa.gov|bd27bedd264a5757| 7839|\n",
    "|     angelfire.com|28acd5624a796d6c| 7766|\n",
    "+------------------+----------------+-----+\n"
   ]
  },
  {
   "cell_type": "markdown",
   "metadata": {},
   "source": [
    "## 2007"
   ]
  },
  {
   "cell_type": "code",
   "execution_count": 64,
   "metadata": {},
   "outputs": [
    {
     "name": "stdout",
     "output_type": "stream",
     "text": [
      "reading from /dfs/scratch2/dankang/wb_links/2007/domain_to_hash.tsv\n"
     ]
    }
   ],
   "source": [
    "hashToDomain = get_hash_to_domain(2007)"
   ]
  },
  {
   "cell_type": "code",
   "execution_count": 65,
   "metadata": {},
   "outputs": [],
   "source": [
    "# maxoutdegreenode=21894 (maxoutdegree=1972277)\n",
    "# Hex value: 0871c7b1303b71b1"
   ]
  },
  {
   "cell_type": "code",
   "execution_count": 57,
   "metadata": {},
   "outputs": [
    {
     "data": {
      "text/plain": [
       "['tripod.lycos.com']"
      ]
     },
     "execution_count": 57,
     "metadata": {},
     "output_type": "execute_result"
    }
   ],
   "source": [
    "hashToDomain['0871c7b1303b71b1']"
   ]
  },
  {
   "cell_type": "code",
   "execution_count": null,
   "metadata": {},
   "outputs": [],
   "source": [
    "+--------------------+----------------+-------+\n",
    "|          Src_domain| Src_domain_hash|  count|\n",
    "+--------------------+----------------+-------+\n",
    "|    tripod.lycos.com|0871c7b1303b71b1|1972277|\n",
    "|        ljudmila.org|bf22f11689c67626| 601954|\n",
    "|          google.com|6512cfca31b94c22| 589630|\n",
    "|     paginegialle.it|e65eda58e6f5207d| 390892|\n",
    "|    choicehotels.com|f1810dd01b60a327| 280225|\n",
    "|              gy.com|ef8ffc5ed4becffe| 211818|\n",
    "|directory.google.com|3cfafcbc987ce4c5| 180160|\n",
    "| educationplanet.com|269e32b71d2664ba| 175441|\n",
    "|        hotsheet.com|cfb0d56f20032566| 159100|\n",
    "|     stumbleupon.com|b3cbc96347dce3d0| 146286|\n",
    "|          newhoo.com|afd376560b63a354| 123813|\n",
    "|            dmoz.org|13a9f906e1aabb5f| 117220|\n",
    "|       picsearch.com|83b7926440632ca1| 114071|\n",
    "|           at-la.com|1bd1a9774fb0b5f1| 107169|\n",
    "|   internazionale.it|aaad8b4156865351|  99993|\n",
    "|boston.craigslist...|adf8c4594cc8627e|  88534|\n",
    "|        nni-news.com|c72ca962494310c1|  85472|\n",
    "|newyork.craigslis...|507a02d04314aaea|  84661|\n",
    "|         adminet.com|aa34ecf126bf89cf|  82403|\n",
    "|           google.de|cd5571256a66db42|  73038|\n",
    "+--------------------+----------------+-------+"
   ]
  },
  {
   "cell_type": "code",
   "execution_count": null,
   "metadata": {},
   "outputs": [],
   "source": [
    "#  maxindegreenode=2506 (maxindegree=19227)\n",
    "# Hex value: 78fd2270135e1b23"
   ]
  },
  {
   "cell_type": "code",
   "execution_count": 56,
   "metadata": {},
   "outputs": [
    {
     "data": {
      "text/plain": [
       "['excite.co.uk']"
      ]
     },
     "execution_count": 56,
     "metadata": {},
     "output_type": "execute_result"
    }
   ],
   "source": [
    "hashToDomain['78fd2270135e1b23']"
   ]
  },
  {
   "cell_type": "code",
   "execution_count": null,
   "metadata": {},
   "outputs": [],
   "source": [
    "\n",
    "+------------------+----------------+-----+\n",
    "|       Dest_domain|Dest_domain_hash|count|\n",
    "+------------------+----------------+-----+\n",
    "|         adobe.com|78fd2270135e1b23|19227|\n",
    "|     microsoft.com|27aa0e9a8dcd0c99|13958|\n",
    "|        google.com|6512cfca31b94c22|12305|\n",
    "|             http:|41f33f4e9ca1a0bb|12266|\n",
    "|     geocities.com|88a81da21704afa3|12079|\n",
    "|        amazon.com|f7a0c374c7d09d59|11035|\n",
    "|  en.wikipedia.org|b961ddc5d26b7ed2| 9504|\n",
    "|         apple.com|83b6018dabced7a5| 8885|\n",
    "|       nytimes.com|5eeb4bfd57992503| 8832|\n",
    "|           cnn.com|5d6f9735c5d70e9f| 7685|\n",
    "|   members.aol.com|36c0420168c4e67e| 7573|\n",
    "|washingtonpost.com|8ac3f26b6fb0d177| 7310|\n",
    "|           pbs.org|e98d8139a373ce68| 7109|\n",
    "|    macromedia.com|09ad91d5a8f241aa| 7091|\n",
    "|    news.bbc.co.uk|04037dc256ce43b8| 7044|\n",
    "|           cdc.gov|7cc40191f2c6b081| 6951|\n",
    "|         yahoo.com|7617b0bdec941953| 6877|\n",
    "|    whitehouse.gov|7ee25e7617f91f78| 6458|\n",
    "|           epa.gov|bd27bedd264a5757| 6322|\n",
    "|      usatoday.com|7569e0871aac524a| 6307|\n",
    "+------------------+----------------+-----+\n"
   ]
  },
  {
   "cell_type": "markdown",
   "metadata": {},
   "source": [
    "## 2010"
   ]
  },
  {
   "cell_type": "code",
   "execution_count": 62,
   "metadata": {},
   "outputs": [
    {
     "name": "stdout",
     "output_type": "stream",
     "text": [
      "reading from /dfs/scratch2/dankang/wb_links/2010/domain_to_hash.tsv\n"
     ]
    }
   ],
   "source": [
    "hashToDomain = get_hash_to_domain(2010)"
   ]
  },
  {
   "cell_type": "code",
   "execution_count": 66,
   "metadata": {},
   "outputs": [],
   "source": [
    "# maxoutdegreenode=29447 (maxoutdegree=1054378)\n",
    "# Hex value: 0871c7b1303b71b1\n",
    "# value: 'tripod.lycos.com"
   ]
  },
  {
   "cell_type": "code",
   "execution_count": 63,
   "metadata": {},
   "outputs": [
    {
     "data": {
      "text/plain": [
       "['tripod.lycos.com']"
      ]
     },
     "execution_count": 63,
     "metadata": {},
     "output_type": "execute_result"
    }
   ],
   "source": [
    "hashToDomain['0871c7b1303b71b1']"
   ]
  },
  {
   "cell_type": "code",
   "execution_count": null,
   "metadata": {},
   "outputs": [],
   "source": [
    "+--------------------+----------------+-------+\n",
    "|          Src_domain| Src_domain_hash|  count|\n",
    "+--------------------+----------------+-------+\n",
    "|    tripod.lycos.com|0871c7b1303b71b1|1054378|\n",
    "|              gy.com|ef8ffc5ed4becffe| 210312|\n",
    "|       mybloglog.com|2a4d0eb6cde4cb3e| 186486|\n",
    "|directory.google.com|3cfafcbc987ce4c5| 167475|\n",
    "|          google.com|6512cfca31b94c22| 141437|\n",
    "|           at-la.com|1bd1a9774fb0b5f1| 135169|\n",
    "|      mister-wong.de|196bd1656bc89c52| 114702|\n",
    "|        hotsheet.com|cfb0d56f20032566| 113261|\n",
    "|rhymeswithright.m...|b65e5e00024e9639| 106891|\n",
    "|    choicehotels.com|f1810dd01b60a327| 104359|\n",
    "|       dir.yahoo.com|492896257d8c319c| 103973|\n",
    "|        business.com|291affb4f21b7cdd| 102757|\n",
    "|      newgrounds.com|77d4818fab256b30| 101781|\n",
    "|       blogmarks.net|433b566cc74b2d63| 101598|\n",
    "|       picsearch.com|83b7926440632ca1| 101464|\n",
    "|            pipl.com|94491ea2c59305f5|  97178|\n",
    "|         adminet.com|aa34ecf126bf89cf|  88470|\n",
    "|       blinklist.com|4142675bcda0113d|  80446|\n",
    "|      metafilter.com|ca52e6a61aa03f84|  76415|\n",
    "|          latpro.com|f3c4b2868f987b6f|  75380|\n",
    "+--------------------+----------------+-------+"
   ]
  },
  {
   "cell_type": "code",
   "execution_count": 67,
   "metadata": {},
   "outputs": [],
   "source": [
    "# maxindegreenode=1316 (maxindegree=11581)\n",
    "# Hex value: ee2a095feb089992\n",
    "# value: facebook.com"
   ]
  },
  {
   "cell_type": "code",
   "execution_count": 49,
   "metadata": {},
   "outputs": [
    {
     "data": {
      "text/plain": [
       "['facebook.com']"
      ]
     },
     "execution_count": 49,
     "metadata": {},
     "output_type": "execute_result"
    }
   ],
   "source": [
    "hashToDomain['ee2a095feb089992']"
   ]
  },
  {
   "cell_type": "code",
   "execution_count": null,
   "metadata": {},
   "outputs": [],
   "source": [
    "+------------------+----------------+-----+\n",
    "|       Dest_domain|Dest_domain_hash|count|\n",
    "+------------------+----------------+-----+\n",
    "|      facebook.com|ee2a095feb089992|11581|\n",
    "|       youtube.com|a82100209096ac0f|11068|\n",
    "|       twitter.com|97bd3245910ca256|10948|\n",
    "|         adobe.com|78fd2270135e1b23|10751|\n",
    "|        google.com|6512cfca31b94c22| 9114|\n",
    "|  en.wikipedia.org|b961ddc5d26b7ed2| 8201|\n",
    "|             http:|41f33f4e9ca1a0bb| 7753|\n",
    "|     microsoft.com|27aa0e9a8dcd0c99| 7261|\n",
    "|        amazon.com|f7a0c374c7d09d59| 7253|\n",
    "|       nytimes.com|5eeb4bfd57992503| 7146|\n",
    "|   maps.google.com|8c92bf3a534b788d| 6024|\n",
    "|     geocities.com|88a81da21704afa3| 5773|\n",
    "|         apple.com|83b6018dabced7a5| 5708|\n",
    "|        flickr.com|58a1af4b1a3ec1a9| 5704|\n",
    "|washingtonpost.com|8ac3f26b6fb0d177| 5323|\n",
    "|           cnn.com|5d6f9735c5d70e9f| 5137|\n",
    "|    news.bbc.co.uk|04037dc256ce43b8| 4975|\n",
    "|    whitehouse.gov|7ee25e7617f91f78| 4905|\n",
    "|           cdc.gov|7cc40191f2c6b081| 4847|\n",
    "|           pbs.org|e98d8139a373ce68| 4843|\n",
    "+------------------+----------------+-----+"
   ]
  }
 ],
 "metadata": {
  "kernelspec": {
   "display_name": "Python 3",
   "language": "python",
   "name": "python3"
  },
  "language_info": {
   "codemirror_mode": {
    "name": "ipython",
    "version": 3
   },
   "file_extension": ".py",
   "mimetype": "text/x-python",
   "name": "python",
   "nbconvert_exporter": "python",
   "pygments_lexer": "ipython3",
   "version": "3.5.2"
  }
 },
 "nbformat": 4,
 "nbformat_minor": 2
}
